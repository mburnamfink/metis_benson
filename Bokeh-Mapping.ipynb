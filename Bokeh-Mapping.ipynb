{
 "cells": [
  {
   "cell_type": "code",
   "execution_count": 108,
   "metadata": {},
   "outputs": [],
   "source": [
    "import pandas as pd\n",
    "import datetime as dt\n",
    "import numpy as np\n",
    "import pyproj"
   ]
  },
  {
   "cell_type": "code",
   "execution_count": 120,
   "metadata": {},
   "outputs": [
    {
     "data": {
      "text/html": [
       "<div>\n",
       "<style scoped>\n",
       "    .dataframe tbody tr th:only-of-type {\n",
       "        vertical-align: middle;\n",
       "    }\n",
       "\n",
       "    .dataframe tbody tr th {\n",
       "        vertical-align: top;\n",
       "    }\n",
       "\n",
       "    .dataframe thead th {\n",
       "        text-align: right;\n",
       "    }\n",
       "</style>\n",
       "<table border=\"1\" class=\"dataframe\">\n",
       "  <thead>\n",
       "    <tr style=\"text-align: right;\">\n",
       "      <th></th>\n",
       "      <th>STATION</th>\n",
       "      <th>PEOPLE</th>\n",
       "      <th>DAY</th>\n",
       "      <th>TIME</th>\n",
       "    </tr>\n",
       "  </thead>\n",
       "  <tbody>\n",
       "    <tr>\n",
       "      <th>0</th>\n",
       "      <td>FULTON ST</td>\n",
       "      <td>161</td>\n",
       "      <td>0</td>\n",
       "      <td>12</td>\n",
       "    </tr>\n",
       "    <tr>\n",
       "      <th>1</th>\n",
       "      <td>CORTLANDT ST</td>\n",
       "      <td>393</td>\n",
       "      <td>2</td>\n",
       "      <td>8</td>\n",
       "    </tr>\n",
       "    <tr>\n",
       "      <th>2</th>\n",
       "      <td>PATH NEW WTC</td>\n",
       "      <td>107</td>\n",
       "      <td>5</td>\n",
       "      <td>16</td>\n",
       "    </tr>\n",
       "    <tr>\n",
       "      <th>3</th>\n",
       "      <td>34 ST-PENN STA</td>\n",
       "      <td>221</td>\n",
       "      <td>5</td>\n",
       "      <td>12</td>\n",
       "    </tr>\n",
       "    <tr>\n",
       "      <th>4</th>\n",
       "      <td>14 ST-UNION SQ</td>\n",
       "      <td>412</td>\n",
       "      <td>5</td>\n",
       "      <td>4</td>\n",
       "    </tr>\n",
       "  </tbody>\n",
       "</table>\n",
       "</div>"
      ],
      "text/plain": [
       "          STATION  PEOPLE  DAY  TIME\n",
       "0       FULTON ST     161    0    12\n",
       "1    CORTLANDT ST     393    2     8\n",
       "2    PATH NEW WTC     107    5    16\n",
       "3  34 ST-PENN STA     221    5    12\n",
       "4  14 ST-UNION SQ     412    5     4"
      ]
     },
     "execution_count": 120,
     "metadata": {},
     "output_type": "execute_result"
    }
   ],
   "source": [
    "#construction of a dummy dataset to test bokeh\n",
    "\n",
    "multiple =4\n",
    "\n",
    "stations = ['FULTON ST',\n",
    " 'CORTLANDT ST',\n",
    " 'PATH NEW WTC',\n",
    " '34 ST-PENN STA',\n",
    " '14 ST-UNION SQ',\n",
    " 'WALL ST',\n",
    " 'GRD CNTRL-42 ST',\n",
    " '23 ST',\n",
    " 'CANAL ST',\n",
    " 'METS-WILLETS PT',\n",
    " '96 ST',\n",
    " 'EXCHANGE PLACE',\n",
    " '42 ST-PORT AUTH',\n",
    " '14 ST',\n",
    " '161/YANKEE STAD',\n",
    " 'LACKAWANNA',\n",
    " '125 ST',\n",
    " '5 AV/53 ST',\n",
    " 'CITY / BUS',\n",
    " 'HARRISON']\n",
    "\n",
    "dummy_df = pd.DataFrame({\n",
    "    'STATION' : stations,\n",
    "    'PEOPLE' : [np.random.randint(0,500) for i in range(5*multiple)],\n",
    "    'DAY': [np.random.randint(0,6) for i in range(5*multiple)],\n",
    "    'TIME' : [np.random.randint(0,5)*4 for i in range(5*multiple)],\n",
    "})\n",
    "\n",
    "\n",
    "#lon, lat = pyproj.transform(project_projection, google_projection, longitude, latitude)\n",
    "\n",
    "dummy_df.head()"
   ]
  },
  {
   "cell_type": "code",
   "execution_count": 110,
   "metadata": {},
   "outputs": [
    {
     "name": "stdout",
     "output_type": "stream",
     "text": [
      "40.709488, -74.008353\n"
     ]
    },
    {
     "data": {
      "text/html": [
       "<div>\n",
       "<style scoped>\n",
       "    .dataframe tbody tr th:only-of-type {\n",
       "        vertical-align: middle;\n",
       "    }\n",
       "\n",
       "    .dataframe tbody tr th {\n",
       "        vertical-align: top;\n",
       "    }\n",
       "\n",
       "    .dataframe thead th {\n",
       "        text-align: right;\n",
       "    }\n",
       "</style>\n",
       "<table border=\"1\" class=\"dataframe\">\n",
       "  <thead>\n",
       "    <tr style=\"text-align: right;\">\n",
       "      <th></th>\n",
       "      <th>STATION</th>\n",
       "      <th>PEOPLE</th>\n",
       "      <th>DAY</th>\n",
       "      <th>TIME</th>\n",
       "      <th>LAT</th>\n",
       "      <th>LON</th>\n",
       "    </tr>\n",
       "  </thead>\n",
       "  <tbody>\n",
       "    <tr>\n",
       "      <th>0</th>\n",
       "      <td>FULTON ST</td>\n",
       "      <td>282</td>\n",
       "      <td>1</td>\n",
       "      <td>8</td>\n",
       "      <td>40.709488</td>\n",
       "      <td>-74.008353</td>\n",
       "    </tr>\n",
       "    <tr>\n",
       "      <th>1</th>\n",
       "      <td>CORTLANDT ST</td>\n",
       "      <td>321</td>\n",
       "      <td>5</td>\n",
       "      <td>8</td>\n",
       "      <td>40.711261</td>\n",
       "      <td>-74.010786</td>\n",
       "    </tr>\n",
       "    <tr>\n",
       "      <th>2</th>\n",
       "      <td>PATH NEW WTC</td>\n",
       "      <td>467</td>\n",
       "      <td>5</td>\n",
       "      <td>16</td>\n",
       "      <td>40.712857</td>\n",
       "      <td>-74.009877</td>\n",
       "    </tr>\n",
       "    <tr>\n",
       "      <th>3</th>\n",
       "      <td>34 ST-PENN STA</td>\n",
       "      <td>120</td>\n",
       "      <td>4</td>\n",
       "      <td>12</td>\n",
       "      <td>40.751308</td>\n",
       "      <td>-73.990235</td>\n",
       "    </tr>\n",
       "    <tr>\n",
       "      <th>4</th>\n",
       "      <td>14 ST-UNION SQ</td>\n",
       "      <td>220</td>\n",
       "      <td>0</td>\n",
       "      <td>16</td>\n",
       "      <td>40.735039</td>\n",
       "      <td>-73.990763</td>\n",
       "    </tr>\n",
       "  </tbody>\n",
       "</table>\n",
       "</div>"
      ],
      "text/plain": [
       "          STATION  PEOPLE  DAY  TIME        LAT        LON\n",
       "0       FULTON ST     282    1     8  40.709488 -74.008353\n",
       "1    CORTLANDT ST     321    5     8  40.711261 -74.010786\n",
       "2    PATH NEW WTC     467    5    16  40.712857 -74.009877\n",
       "3  34 ST-PENN STA     120    4    12  40.751308 -73.990235\n",
       "4  14 ST-UNION SQ     220    0    16  40.735039 -73.990763"
      ]
     },
     "execution_count": 110,
     "metadata": {},
     "output_type": "execute_result"
    }
   ],
   "source": [
    "#we're only concerned with the busiest subway stations.\n",
    "#subway_station_coords.csv is a local file linking station names to Lat, Lon coordinates\n",
    "#for user friendliness, the coordinates are a single string\n",
    "#we split them into lat, lon, and join to our main df with a merge\n",
    "\n",
    "coords = pd.read_csv('subway_station_coords.csv')\n",
    "lats = []\n",
    "lons = []\n",
    "\n",
    "print(coords.COORDS[0])\n",
    "\n",
    "for item in coords.COORDS:\n",
    "    lats.append(float(item.split(',')[0]))\n",
    "    lons.append(float(item.split(',')[1]))\n",
    "\n",
    "coords['LAT'] = lats\n",
    "coords['LON'] = lons\n",
    "coords.drop(columns =['COORDS'], inplace=True)\n",
    "coords.head()\n",
    "\n",
    "df = pd.merge(dummy_df, coords, on='STATION')\n",
    "df.head()"
   ]
  },
  {
   "cell_type": "code",
   "execution_count": null,
   "metadata": {},
   "outputs": [],
   "source": []
  },
  {
   "cell_type": "code",
   "execution_count": 115,
   "metadata": {},
   "outputs": [
    {
     "data": {
      "text/html": [
       "<div>\n",
       "<style scoped>\n",
       "    .dataframe tbody tr th:only-of-type {\n",
       "        vertical-align: middle;\n",
       "    }\n",
       "\n",
       "    .dataframe tbody tr th {\n",
       "        vertical-align: top;\n",
       "    }\n",
       "\n",
       "    .dataframe thead th {\n",
       "        text-align: right;\n",
       "    }\n",
       "</style>\n",
       "<table border=\"1\" class=\"dataframe\">\n",
       "  <thead>\n",
       "    <tr style=\"text-align: right;\">\n",
       "      <th></th>\n",
       "      <th>STATION</th>\n",
       "      <th>PEOPLE</th>\n",
       "      <th>DAY</th>\n",
       "      <th>TIME</th>\n",
       "      <th>X_COORD</th>\n",
       "      <th>Y_COORD</th>\n",
       "    </tr>\n",
       "  </thead>\n",
       "  <tbody>\n",
       "    <tr>\n",
       "      <th>0</th>\n",
       "      <td>FULTON ST</td>\n",
       "      <td>282</td>\n",
       "      <td>1</td>\n",
       "      <td>8</td>\n",
       "      <td>-8.238572e+06</td>\n",
       "      <td>4.969585e+06</td>\n",
       "    </tr>\n",
       "    <tr>\n",
       "      <th>1</th>\n",
       "      <td>CORTLANDT ST</td>\n",
       "      <td>321</td>\n",
       "      <td>5</td>\n",
       "      <td>8</td>\n",
       "      <td>-8.238843e+06</td>\n",
       "      <td>4.969846e+06</td>\n",
       "    </tr>\n",
       "    <tr>\n",
       "      <th>2</th>\n",
       "      <td>PATH NEW WTC</td>\n",
       "      <td>467</td>\n",
       "      <td>5</td>\n",
       "      <td>16</td>\n",
       "      <td>-8.238742e+06</td>\n",
       "      <td>4.970080e+06</td>\n",
       "    </tr>\n",
       "    <tr>\n",
       "      <th>3</th>\n",
       "      <td>34 ST-PENN STA</td>\n",
       "      <td>120</td>\n",
       "      <td>4</td>\n",
       "      <td>12</td>\n",
       "      <td>-8.236555e+06</td>\n",
       "      <td>4.975729e+06</td>\n",
       "    </tr>\n",
       "    <tr>\n",
       "      <th>4</th>\n",
       "      <td>14 ST-UNION SQ</td>\n",
       "      <td>220</td>\n",
       "      <td>0</td>\n",
       "      <td>16</td>\n",
       "      <td>-8.236614e+06</td>\n",
       "      <td>4.973338e+06</td>\n",
       "    </tr>\n",
       "  </tbody>\n",
       "</table>\n",
       "</div>"
      ],
      "text/plain": [
       "          STATION  PEOPLE  DAY  TIME       X_COORD       Y_COORD\n",
       "0       FULTON ST     282    1     8 -8.238572e+06  4.969585e+06\n",
       "1    CORTLANDT ST     321    5     8 -8.238843e+06  4.969846e+06\n",
       "2    PATH NEW WTC     467    5    16 -8.238742e+06  4.970080e+06\n",
       "3  34 ST-PENN STA     120    4    12 -8.236555e+06  4.975729e+06\n",
       "4  14 ST-UNION SQ     220    0    16 -8.236614e+06  4.973338e+06"
      ]
     },
     "execution_count": 115,
     "metadata": {},
     "output_type": "execute_result"
    }
   ],
   "source": [
    "#coordinate transformation from lat, long to Google Maps Web Mercator\n",
    "#we define a function using prproj, apply it to the df, split the\n",
    "#resulting tuple, and drop the unnecessary columns\n",
    "\n",
    "project_projection = pyproj.Proj(\"+init=EPSG:4326\")  # wgs84\n",
    "google_projection = pyproj.Proj(\"+init=EPSG:3857\")  # default google projection\n",
    "\n",
    "def coord_transform(row):\n",
    "    x, y = pyproj.transform(project_projection, google_projection, row['LON'], row['LAT'])\n",
    "    return x, y\n",
    "\n",
    "df['COORD'] = df.apply(coord_transform, axis=1)\n",
    "df[['X_COORD', 'Y_COORD']] = df['COORD'].apply(pd.Series)\n",
    "df.drop(columns=['LAT', 'LON','COORD'], inplace=True)\n",
    "df.head()\n"
   ]
  },
  {
   "cell_type": "code",
   "execution_count": 117,
   "metadata": {},
   "outputs": [],
   "source": [
    "#not a fan of the default bokeh palettes, so we make our own\n",
    "\n",
    "from matplotlib.colors import LinearSegmentedColormap\n",
    "from matplotlib.colors import rgb2hex\n",
    "\n",
    "cm = LinearSegmentedColormap.from_list('colors', ['#fdd49e','#870000'], N=100)\n",
    "pal = []\n",
    "\n",
    "for i in range(100):\n",
    "    pal.append(rgb2hex(cm(i)))"
   ]
  },
  {
   "cell_type": "code",
   "execution_count": 118,
   "metadata": {},
   "outputs": [],
   "source": [
    "#I was asked in I could scale the points\n",
    "#np.interpolate makes this easy, if we get the highs and lows for the range\n",
    "\n",
    "high = df.PEOPLE.max()\n",
    "low = df.PEOPLE.min()\n",
    "\n",
    "df['SIZE'] = np.interp(df.PEOPLE, [low, high], [5, 25])"
   ]
  },
  {
   "cell_type": "code",
   "execution_count": 119,
   "metadata": {},
   "outputs": [
    {
     "name": "stdout",
     "output_type": "stream",
     "text": [
      "-8227854.441154755 4979232.550263305\n"
     ]
    }
   ],
   "source": [
    "from bokeh.plotting import figure, show, output_file, reset_output\n",
    "from bokeh.tile_providers import CARTODBPOSITRON\n",
    "from bokeh.models import ColumnDataSource, ColorBar, HoverTool, LinearColorMapper\n",
    "from bokeh.palettes import *\n",
    "\n",
    "reset_output()\n",
    "\n",
    "output_file(\"tile.html\")\n",
    "\n",
    "mapper = LinearColorMapper(palette=pal, low=0, high=500)\n",
    "\n",
    "data = ColumnDataSource(df)\n",
    "hover_tool = HoverTool(tooltips =[\n",
    "    ('Station', '@STATION'),\n",
    "    ('People', '@PEOPLE')\n",
    "])\n",
    "\n",
    "ny_longitude = -73.912074\n",
    "ny_latitude = 40.775149\n",
    "\n",
    "ny_lon, ny_lat = pyproj.transform(project_projection, google_projection, ny_longitude, ny_latitude)\n",
    "\n",
    "print(ny_lon, ny_lat)\n",
    "\n",
    "# range bounds supplied in web mercator coordinates\n",
    "p = figure(x_range=(ny_lon-20000, ny_lon+20000), y_range=(ny_lat-10000, ny_lat+10000),\n",
    "           x_axis_type=\"mercator\", y_axis_type=\"mercator\",\n",
    "           plot_width=1200, plot_height=600)\n",
    "p.circle(source=data, x='X_COORD', y='Y_COORD', legend='STATION', size='SIZE',\n",
    "         color={'field':'PEOPLE', 'transform': mapper}, alpha=0.8,\n",
    "        line_color=\"black\")\n",
    "p.add_tile(CARTODBPOSITRON)\n",
    "p.add_tools(hover_tool)\n",
    "color_bar = ColorBar(color_mapper=mapper, width=20,  location=(0,0), title='People')\n",
    "p.add_layout(color_bar, 'right')\n",
    "#p.xaxis.ticker = np.arange(-74.0, -73.7, 0.05)\n",
    "#p.yaxis.ticker = np.arange(40.7, 40.9, 0.05)\n",
    "\n",
    "show(p)"
   ]
  },
  {
   "cell_type": "code",
   "execution_count": 55,
   "metadata": {},
   "outputs": [
    {
     "data": {
      "text/plain": [
       "['#fdd49e', '#fdbb84', '#fc8d59', '#ef6548', '#d7301f']"
      ]
     },
     "execution_count": 55,
     "metadata": {},
     "output_type": "execute_result"
    }
   ],
   "source": [
    "OrRd[9][2:7][::-1]"
   ]
  },
  {
   "cell_type": "code",
   "execution_count": 67,
   "metadata": {},
   "outputs": [
    {
     "data": {
      "text/plain": [
       "['#fdd49e', '#fdbb84', '#fc8d59', '#ef6548', '#d7301f']"
      ]
     },
     "execution_count": 67,
     "metadata": {},
     "output_type": "execute_result"
    }
   ],
   "source": [
    "OrRd[9][2:7][::-1]"
   ]
  },
  {
   "cell_type": "code",
   "execution_count": null,
   "metadata": {},
   "outputs": [],
   "source": []
  },
  {
   "cell_type": "code",
   "execution_count": null,
   "metadata": {},
   "outputs": [],
   "source": []
  }
 ],
 "metadata": {
  "kernelspec": {
   "display_name": "Python 3",
   "language": "python",
   "name": "python3"
  },
  "language_info": {
   "codemirror_mode": {
    "name": "ipython",
    "version": 3
   },
   "file_extension": ".py",
   "mimetype": "text/x-python",
   "name": "python",
   "nbconvert_exporter": "python",
   "pygments_lexer": "ipython3",
   "version": "3.6.6"
  }
 },
 "nbformat": 4,
 "nbformat_minor": 2
}
