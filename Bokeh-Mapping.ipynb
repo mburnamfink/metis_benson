{
 "cells": [
  {
   "cell_type": "code",
   "execution_count": 3,
   "metadata": {},
   "outputs": [
    {
     "ename": "SyntaxError",
     "evalue": "invalid syntax (<ipython-input-3-5ff198d705b4>, line 4)",
     "output_type": "error",
     "traceback": [
      "\u001b[0;36m  File \u001b[0;32m\"<ipython-input-3-5ff198d705b4>\"\u001b[0;36m, line \u001b[0;32m4\u001b[0m\n\u001b[0;31m    import pyproj as *\u001b[0m\n\u001b[0m                     ^\u001b[0m\n\u001b[0;31mSyntaxError\u001b[0m\u001b[0;31m:\u001b[0m invalid syntax\n"
     ]
    }
   ],
   "source": [
    "import pandas as pd\n",
    "import datetime as dt\n",
    "import numpy as np\n",
    "import pyproj"
   ]
  },
  {
   "cell_type": "code",
   "execution_count": 75,
   "metadata": {},
   "outputs": [
    {
     "data": {
      "text/html": [
       "<div>\n",
       "<style scoped>\n",
       "    .dataframe tbody tr th:only-of-type {\n",
       "        vertical-align: middle;\n",
       "    }\n",
       "\n",
       "    .dataframe tbody tr th {\n",
       "        vertical-align: top;\n",
       "    }\n",
       "\n",
       "    .dataframe thead th {\n",
       "        text-align: right;\n",
       "    }\n",
       "</style>\n",
       "<table border=\"1\" class=\"dataframe\">\n",
       "  <thead>\n",
       "    <tr style=\"text-align: right;\">\n",
       "      <th></th>\n",
       "      <th>STATION</th>\n",
       "      <th>PEOPLE</th>\n",
       "      <th>DAY</th>\n",
       "      <th>TIME</th>\n",
       "      <th>LAT</th>\n",
       "      <th>LON</th>\n",
       "    </tr>\n",
       "  </thead>\n",
       "  <tbody>\n",
       "    <tr>\n",
       "      <th>0</th>\n",
       "      <td>dummy 1</td>\n",
       "      <td>375</td>\n",
       "      <td>5</td>\n",
       "      <td>4</td>\n",
       "      <td>40.775149</td>\n",
       "      <td>-73.912074</td>\n",
       "    </tr>\n",
       "    <tr>\n",
       "      <th>1</th>\n",
       "      <td>dummy 2</td>\n",
       "      <td>473</td>\n",
       "      <td>4</td>\n",
       "      <td>0</td>\n",
       "      <td>40.774810</td>\n",
       "      <td>-73.912151</td>\n",
       "    </tr>\n",
       "    <tr>\n",
       "      <th>2</th>\n",
       "      <td>dummy 3</td>\n",
       "      <td>338</td>\n",
       "      <td>4</td>\n",
       "      <td>8</td>\n",
       "      <td>40.775025</td>\n",
       "      <td>-73.911891</td>\n",
       "    </tr>\n",
       "    <tr>\n",
       "      <th>3</th>\n",
       "      <td>dummy 4</td>\n",
       "      <td>103</td>\n",
       "      <td>2</td>\n",
       "      <td>16</td>\n",
       "      <td>40.774938</td>\n",
       "      <td>-73.912337</td>\n",
       "    </tr>\n",
       "    <tr>\n",
       "      <th>4</th>\n",
       "      <td>dummy 5</td>\n",
       "      <td>499</td>\n",
       "      <td>3</td>\n",
       "      <td>4</td>\n",
       "      <td>40.770313</td>\n",
       "      <td>-73.912337</td>\n",
       "    </tr>\n",
       "  </tbody>\n",
       "</table>\n",
       "</div>"
      ],
      "text/plain": [
       "   STATION  PEOPLE  DAY  TIME        LAT        LON\n",
       "0  dummy 1     375    5     4  40.775149 -73.912074\n",
       "1  dummy 2     473    4     0  40.774810 -73.912151\n",
       "2  dummy 3     338    4     8  40.775025 -73.911891\n",
       "3  dummy 4     103    2    16  40.774938 -73.912337\n",
       "4  dummy 5     499    3     4  40.770313 -73.912337"
      ]
     },
     "execution_count": 75,
     "metadata": {},
     "output_type": "execute_result"
    }
   ],
   "source": [
    "multiple =1\n",
    "\n",
    "dummy_df = pd.DataFrame({\n",
    "    'STATION' : ['dummy 1', 'dummy 2', 'dummy 3', 'dummy 4', 'dummy 5']*multiple,\n",
    "    'PEOPLE' : [np.random.randint(0,500) for i in range(5*multiple)],\n",
    "    'DAY': [np.random.randint(0,6) for i in range(5*multiple)],\n",
    "    'TIME' : [np.random.randint(0,5)*4 for i in range(5*multiple)],\n",
    "    'LAT': [40.775149, 40.77481, 40.775025, 40.774938, 40.770313]*multiple,\n",
    "    'LON': [-73.912074, -73.912151, -73.911891, -73.912337, -73.912337]*multiple\n",
    "})\n",
    "\n",
    "\n",
    "\n",
    "project_projection = pyproj.Proj(\"+init=EPSG:4326\")  # wgs84\n",
    "google_projection = pyproj.Proj(\"+init=EPSG:3857\")  # default google projection\n",
    "\n",
    "lon, lat = pyproj.transform(project_projection, google_projection, longitude, latitude)\n",
    "\n",
    "dummy_df.head()\n",
    "\n"
   ]
  },
  {
   "cell_type": "code",
   "execution_count": 77,
   "metadata": {},
   "outputs": [
    {
     "data": {
      "text/html": [
       "<div>\n",
       "<style scoped>\n",
       "    .dataframe tbody tr th:only-of-type {\n",
       "        vertical-align: middle;\n",
       "    }\n",
       "\n",
       "    .dataframe tbody tr th {\n",
       "        vertical-align: top;\n",
       "    }\n",
       "\n",
       "    .dataframe thead th {\n",
       "        text-align: right;\n",
       "    }\n",
       "</style>\n",
       "<table border=\"1\" class=\"dataframe\">\n",
       "  <thead>\n",
       "    <tr style=\"text-align: right;\">\n",
       "      <th></th>\n",
       "      <th>STATION</th>\n",
       "      <th>PEOPLE</th>\n",
       "      <th>DAY</th>\n",
       "      <th>TIME</th>\n",
       "      <th>LAT</th>\n",
       "      <th>LON</th>\n",
       "      <th>X_CORD</th>\n",
       "      <th>Y_CORD</th>\n",
       "    </tr>\n",
       "  </thead>\n",
       "  <tbody>\n",
       "    <tr>\n",
       "      <th>4</th>\n",
       "      <td>dummy 5</td>\n",
       "      <td>499</td>\n",
       "      <td>3</td>\n",
       "      <td>4</td>\n",
       "      <td>40.770313</td>\n",
       "      <td>-73.912337</td>\n",
       "      <td>-8.227884e+06</td>\n",
       "      <td>4.978522e+06</td>\n",
       "    </tr>\n",
       "    <tr>\n",
       "      <th>3</th>\n",
       "      <td>dummy 4</td>\n",
       "      <td>103</td>\n",
       "      <td>2</td>\n",
       "      <td>16</td>\n",
       "      <td>40.774938</td>\n",
       "      <td>-73.912337</td>\n",
       "      <td>-8.227884e+06</td>\n",
       "      <td>4.979202e+06</td>\n",
       "    </tr>\n",
       "    <tr>\n",
       "      <th>1</th>\n",
       "      <td>dummy 2</td>\n",
       "      <td>473</td>\n",
       "      <td>4</td>\n",
       "      <td>0</td>\n",
       "      <td>40.774810</td>\n",
       "      <td>-73.912151</td>\n",
       "      <td>-8.227863e+06</td>\n",
       "      <td>4.979183e+06</td>\n",
       "    </tr>\n",
       "    <tr>\n",
       "      <th>2</th>\n",
       "      <td>dummy 3</td>\n",
       "      <td>338</td>\n",
       "      <td>4</td>\n",
       "      <td>8</td>\n",
       "      <td>40.775025</td>\n",
       "      <td>-73.911891</td>\n",
       "      <td>-8.227834e+06</td>\n",
       "      <td>4.979214e+06</td>\n",
       "    </tr>\n",
       "    <tr>\n",
       "      <th>0</th>\n",
       "      <td>dummy 1</td>\n",
       "      <td>375</td>\n",
       "      <td>5</td>\n",
       "      <td>4</td>\n",
       "      <td>40.775149</td>\n",
       "      <td>-73.912074</td>\n",
       "      <td>-8.227854e+06</td>\n",
       "      <td>4.979233e+06</td>\n",
       "    </tr>\n",
       "  </tbody>\n",
       "</table>\n",
       "</div>"
      ],
      "text/plain": [
       "   STATION  PEOPLE  DAY  TIME        LAT        LON        X_CORD  \\\n",
       "4  dummy 5     499    3     4  40.770313 -73.912337 -8.227884e+06   \n",
       "3  dummy 4     103    2    16  40.774938 -73.912337 -8.227884e+06   \n",
       "1  dummy 2     473    4     0  40.774810 -73.912151 -8.227863e+06   \n",
       "2  dummy 3     338    4     8  40.775025 -73.911891 -8.227834e+06   \n",
       "0  dummy 1     375    5     4  40.775149 -73.912074 -8.227854e+06   \n",
       "\n",
       "         Y_CORD  \n",
       "4  4.978522e+06  \n",
       "3  4.979202e+06  \n",
       "1  4.979183e+06  \n",
       "2  4.979214e+06  \n",
       "0  4.979233e+06  "
      ]
     },
     "execution_count": 77,
     "metadata": {},
     "output_type": "execute_result"
    }
   ],
   "source": [
    "xs = []\n",
    "ys = []\n",
    "\n",
    "for row in dummy_df.itertuples():\n",
    "    lat =  row[5]\n",
    "    lon = row[6]\n",
    "    x, y = pyproj.transform(project_projection, google_projection, lon, lat)\n",
    "    xs.append(x)\n",
    "    ys.append(y)\n",
    "\n",
    "dummy_df['X_CORD']=xs\n",
    "dummy_df['Y_CORD']=ys\n",
    "\n",
    "dummy_df.sample(5)\n"
   ]
  },
  {
   "cell_type": "code",
   "execution_count": null,
   "metadata": {},
   "outputs": [],
   "source": []
  },
  {
   "cell_type": "code",
   "execution_count": 89,
   "metadata": {},
   "outputs": [
    {
     "name": "stdout",
     "output_type": "stream",
     "text": [
      "-8227854.441154755 4979232.550263305\n"
     ]
    }
   ],
   "source": [
    "import bokeh.plotting\n",
    "\n",
    "from bokeh.plotting import figure, show, output_file\n",
    "from bokeh.tile_providers import CARTODBPOSITRON\n",
    "from bokeh.models import ColumnDataSource, ColorBar, HoverTool, LinearColorMapper\n",
    "from bokeh.palettes import *\n",
    "\n",
    "bokeh.plotting.reset_output()\n",
    "\n",
    "output_file(\"tile.html\")\n",
    "\n",
    "mapper = LinearColorMapper(palette=Plasma256, low=0, high=500)\n",
    "\n",
    "data = ColumnDataSource(dummy_df)\n",
    "hover_tool = HoverTool(tooltips =[\n",
    "    ('Station', '@STATION')\n",
    "])\n",
    "\n",
    "ny_longitude = -73.912074\n",
    "ny_latitude = 40.775149\n",
    "\n",
    "ny_lon, ny_lat = pyproj.transform(project_projection, google_projection, ny_longitude, ny_latitude)\n",
    "\n",
    "print(ny_lon, ny_lat)\n",
    "\n",
    "# range bounds supplied in web mercator coordinates\n",
    "p = figure(x_range=(ny_lon-10000, ny_lon+10000), y_range=(ny_lat-10000, ny_lat+10000),\n",
    "           x_axis_type=\"mercator\", y_axis_type=\"mercator\")\n",
    "p.circle(source=data, x='X_CORD', y='Y_CORD', legend='STATION', \n",
    "         color={'field':'PEOPLE', 'transform': mapper}, size=12)\n",
    "p.add_tile(CARTODBPOSITRON)\n",
    "p.add_tools(hover_tool)\n",
    "color_bar = ColorBar(color_mapper=mapper, width=8,  location=(0,0))\n",
    "p.add_layout(color_bar, 'right')\n",
    "\n",
    "show(p)"
   ]
  },
  {
   "cell_type": "code",
   "execution_count": 23,
   "metadata": {},
   "outputs": [],
   "source": []
  },
  {
   "cell_type": "code",
   "execution_count": 28,
   "metadata": {},
   "outputs": [],
   "source": []
  },
  {
   "cell_type": "code",
   "execution_count": 29,
   "metadata": {},
   "outputs": [
    {
     "data": {
      "text/plain": [
       "(5008370.868820031, -12480129.899747571)"
      ]
     },
     "execution_count": 29,
     "metadata": {},
     "output_type": "execute_result"
    }
   ],
   "source": []
  },
  {
   "cell_type": "code",
   "execution_count": null,
   "metadata": {},
   "outputs": [],
   "source": []
  }
 ],
 "metadata": {
  "kernelspec": {
   "display_name": "Python 3",
   "language": "python",
   "name": "python3"
  },
  "language_info": {
   "codemirror_mode": {
    "name": "ipython",
    "version": 3
   },
   "file_extension": ".py",
   "mimetype": "text/x-python",
   "name": "python",
   "nbconvert_exporter": "python",
   "pygments_lexer": "ipython3",
   "version": "3.6.6"
  }
 },
 "nbformat": 4,
 "nbformat_minor": 2
}
