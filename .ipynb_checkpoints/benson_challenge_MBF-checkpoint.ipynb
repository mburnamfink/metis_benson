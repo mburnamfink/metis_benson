{
 "cells": [
  {
   "cell_type": "markdown",
   "metadata": {},
   "source": [
    "#### Challenge 1   \n",
    "  \n",
    "- Open up a new IPython notebook\n",
    "- Download a few MTA turnstile data files\n",
    "- Open up a file, use csv reader to read it, make a python dict where\n",
    "  there is a key for each (C/A, UNIT, SCP, STATION). These are the\n",
    "  first four columns. The value for this key should be a list of\n",
    "  lists. Each list in the list is the rest of the columns in a\n",
    "  row. For example, one key-value pair should look like\n",
    "\n",
    "\n",
    "{    ('A002','R051','02-00-00','LEXINGTON AVE'):\n",
    "[\n",
    "['NQR456', 'BMT', '01/03/2015', '03:00:00', 'REGULAR', '0004945474', '0001675324'],\n",
    "['NQR456', 'BMT', '01/03/2015', '07:00:00', 'REGULAR', '0004945478', '0001675333'],\n",
    "['NQR456', 'BMT', '01/03/2015', '11:00:00', 'REGULAR', '0004945515', '0001675364'],\n",
    "...\n",
    "]\n",
    "}"
   ]
  },
  {
   "cell_type": "code",
   "execution_count": 125,
   "metadata": {},
   "outputs": [],
   "source": [
    "import pandas as pd\n",
    "import seaborn as sns\n",
    "import matplotlib.pyplot as plt\n",
    "import collections\n",
    "%matplotlib inline"
   ]
  },
  {
   "cell_type": "code",
   "execution_count": 126,
   "metadata": {},
   "outputs": [
    {
     "name": "stdout",
     "output_type": "stream",
     "text": [
      "Index(['C/A', 'UNIT', 'SCP', 'STATION', 'LINENAME', 'DIVISION', 'DATE', 'TIME',\n",
      "       'DESC', 'ENTRIES', 'EXITS'],\n",
      "      dtype='object')\n"
     ]
    }
   ],
   "source": [
    "df = pd.read_csv('turnstile_180922.txt')\n",
    "df.rename(index=str, columns={df.columns[-1]: \"EXITS\"}, inplace=True)\n",
    "print(df.columns)\n",
    "\n",
    "dt = df.DATE + ' '+ df.TIME\n",
    "\n",
    "df['DATETIME'] = pd.to_datetime(dt, infer_datetime_format=True)\n",
    "df['KEY'] = df.STATION + ' ' + df['C/A']+ ' '+df.UNIT+ ' '+df.SCP\n",
    "\n",
    "mydict = collections.defaultdict(list)\n",
    "\n",
    "#(Index='0', _1='A002', UNIT='R051', SCP='02-00-00', STATION='59 ST', LINENAME='NQR456W', DIVISION='BMT', DATE='09/15/2018', TIME='00:00:00', DESC='REGULAR', ENTRIES=6759219, EXITS=2291425, DATETIME=Timestamp('2018-09-15 00:00:00'), KEY='59 ST A002 R051 02-00-00')\n",
    "\n",
    "for row in df.itertuples():\n",
    "    key = (row[1], row[2], row[3], row[4])\n",
    "    value = [row[5], row[6], row[9], row[12], row[10], row[11]]\n",
    "    mydict[key].append(value)"
   ]
  },
  {
   "cell_type": "code",
   "execution_count": 127,
   "metadata": {},
   "outputs": [
    {
     "data": {
      "text/plain": [
       "['NQR456W',\n",
       " 'BMT',\n",
       " 'REGULAR',\n",
       " Timestamp('2018-09-15 00:00:00'),\n",
       " 6759219,\n",
       " 2291425]"
      ]
     },
     "execution_count": 127,
     "metadata": {},
     "output_type": "execute_result"
    }
   ],
   "source": [
    "mydict = collections.defaultdict(list)\n",
    "\n",
    "#(Index='0', _1='A002', UNIT='R051', SCP='02-00-00', STATION='59 ST', LINENAME='NQR456W', DIVISION='BMT', DATE='09/15/2018', TIME='00:00:00', DESC='REGULAR', ENTRIES=6759219, EXITS=2291425, DATETIME=Timestamp('2018-09-15 00:00:00'), KEY='59 ST A002 R051 02-00-00')\n",
    "\n",
    "for row in df.itertuples():\n",
    "    key = (row[1], row[2], row[3], row[4])\n",
    "    value = [row[5], row[6], row[9], row[12], row[10], row[11]]\n",
    "    mydict[key].append(value)\n",
    "    \n",
    "mydict[('A002', 'R051', '02-00-00', '59 ST')][0]"
   ]
  },
  {
   "cell_type": "markdown",
   "metadata": {},
   "source": [
    "#### Challenge 2\n",
    "\n",
    "- Let's turn this into a time series.\n",
    "\n",
    " For each key (basically the control area, unit, device address and\n",
    " station of a specific turnstile), have a list again, but let the list\n",
    " be comprised of just the point in time and the count of entries.\n",
    "\n",
    "This basically means keeping only the date, time, and entries fields\n",
    "in each list. You can convert the date and time into datetime objects\n",
    "-- That is a python class that represents a point in time. You can\n",
    "combine the date and time fields into a string and use the\n",
    "[dateutil](https://labix.org/python-dateutil) module to convert it\n",
    "into a datetime object. For an example check\n",
    "[this StackOverflow question](http://stackoverflow.com/questions/23385003/attributeerror-when-using-import-dateutil-and-dateutil-parser-parse-but-no).\n",
    "\n",
    "Your new dict should look something like\n",
    "\n",
    "{    ('A002','R051','02-00-00','LEXINGTON AVE'):\n",
    "[\n",
    "[datetime.datetime(2013, 3, 2, 3, 0), 3788],\n",
    "[datetime.datetime(2013, 3, 2, 7, 0), 2585],\n",
    "[datetime.datetime(2013, 3, 2, 12, 0), 10653],\n",
    "[datetime.datetime(2013, 3, 2, 17, 0), 11016],\n",
    "[datetime.datetime(2013, 3, 2, 23, 0), 10666],\n",
    "[datetime.datetime(2013, 3, 3, 3, 0), 10814],\n",
    "[datetime.datetime(2013, 3, 3, 7, 0), 10229],\n",
    "...\n",
    "],\n",
    "....\n",
    "}"
   ]
  },
  {
   "cell_type": "code",
   "execution_count": 124,
   "metadata": {},
   "outputs": [
    {
     "name": "stdout",
     "output_type": "stream",
     "text": [
      "[[Timestamp('2018-09-15 00:00:00'), 6759219], [Timestamp('2018-09-15 04:00:00'), 6759234], [Timestamp('2018-09-15 08:00:00'), 6759251], [Timestamp('2018-09-15 12:00:00'), 6759330], [Timestamp('2018-09-15 16:00:00'), 6759538]]\n"
     ]
    }
   ],
   "source": [
    "challenge2 = collections.defaultdict(list)\n",
    "\n",
    "for key in mydict:\n",
    "    entries = mydict[key]\n",
    "    for entry in entries:\n",
    "        value = [entry[3]-lastentry, entry[4]]\n",
    "        lastentry = entry[3]\n",
    "        challenge2[key].append(value)\n",
    "print(challenge2[('A002', 'R051', '02-00-00', '59 ST')][0:5])"
   ]
  },
  {
   "cell_type": "markdown",
   "metadata": {},
   "source": [
    "#### Challenge 3\n",
    "\n",
    "- These counts are for every n hours. (What is n?) We want total daily\n",
    "  entries.\n",
    "\n",
    "Now make it that we again have the same keys, but now we have a single\n",
    "value for a single day, which is the total number of passengers that\n",
    "entered through this turnstile on this day.\n"
   ]
  },
  {
   "cell_type": "markdown",
   "metadata": {},
   "source": []
  },
  {
   "cell_type": "code",
   "execution_count": null,
   "metadata": {},
   "outputs": [],
   "source": []
  }
 ],
 "metadata": {
  "kernelspec": {
   "display_name": "Python 3",
   "language": "python",
   "name": "python3"
  },
  "language_info": {
   "codemirror_mode": {
    "name": "ipython",
    "version": 3
   },
   "file_extension": ".py",
   "mimetype": "text/x-python",
   "name": "python",
   "nbconvert_exporter": "python",
   "pygments_lexer": "ipython3",
   "version": "3.6.6"
  }
 },
 "nbformat": 4,
 "nbformat_minor": 2
}
